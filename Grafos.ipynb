{
  "nbformat": 4,
  "nbformat_minor": 0,
  "metadata": {
    "colab": {
      "name": "Grafos.ipynb",
      "provenance": [],
      "authorship_tag": "ABX9TyMzzZFWq0Muvsa8gHY+lB1+",
      "include_colab_link": true
    },
    "kernelspec": {
      "name": "python3",
      "display_name": "Python 3"
    },
    "language_info": {
      "name": "python"
    }
  },
  "cells": [
    {
      "cell_type": "markdown",
      "metadata": {
        "id": "view-in-github",
        "colab_type": "text"
      },
      "source": [
        "<a href=\"https://colab.research.google.com/github/Kvillalobos210/Repos/blob/master/Grafos.ipynb\" target=\"_parent\"><img src=\"https://colab.research.google.com/assets/colab-badge.svg\" alt=\"Open In Colab\"/></a>"
      ]
    },
    {
      "cell_type": "code",
      "metadata": {
        "id": "ctfx9779-FTf"
      },
      "source": [
        "import grafhviz as gv\n",
        "import numpy as np\n",
        "import pandas as pd "
      ],
      "execution_count": null,
      "outputs": []
    },
    {
      "cell_type": "code",
      "metadata": {
        "id": "Oz-1tx8E-Yhc"
      },
      "source": [
        "def adjmShow(M,directed=False,weighted=false,layout=\"circo\"):"
      ],
      "execution_count": null,
      "outputs": []
    },
    {
      "cell_type": "markdown",
      "metadata": {
        "id": "tB9SZKY8-ipR"
      },
      "source": [
        "nan significa -> NOT A NUMBER \n",
        "pd-> siginifica de la librería de panda importada \n",
        "weighted -> es para que el grafo tenga peso"
      ]
    },
    {
      "cell_type": "markdown",
      "metadata": {
        "id": "8YoLmZXKOSlS"
      },
      "source": [
        "phyton->py\n",
        "c++-> cpp\n",
        "notebook o colab->ipynb"
      ]
    },
    {
      "cell_type": "code",
      "metadata": {
        "id": "PRTE7RXQAMcb"
      },
      "source": [
        ""
      ],
      "execution_count": null,
      "outputs": []
    }
  ]
}